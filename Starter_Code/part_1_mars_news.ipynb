{
 "cells": [
  {
   "cell_type": "markdown",
   "metadata": {},
   "source": [
    "# Module 12 Challenge\n",
    "## Deliverable 1: Scrape Titles and Preview Text from Mars News"
   ]
  },
  {
   "cell_type": "code",
   "execution_count": 1,
   "metadata": {},
   "outputs": [],
   "source": [
    "# Import Splinter and BeautifulSoup\n",
    "from splinter import Browser\n",
    "from bs4 import BeautifulSoup as bs\n",
    "from webdriver_manager.chrome import ChromeDriverManager"
   ]
  },
  {
   "cell_type": "code",
   "execution_count": 2,
   "metadata": {
    "scrolled": true
   },
   "outputs": [],
   "source": [
    "executable_path = {'executable_path': ChromeDriverManager().install()}\n",
    "browser = Browser('chrome', **executable_path, headless=False)"
   ]
  },
  {
   "cell_type": "markdown",
   "metadata": {},
   "source": [
    "### Step 1: Visit the Website\n",
    "\n",
    "1. Use automated browsing to visit the [Mars NASA news site](https://redplanetscience.com). Inspect the page to identify which elements to scrape.\n",
    "\n",
    "      > **Hint** To identify which elements to scrape, you might want to inspect the page by using Chrome DevTools."
   ]
  },
  {
   "cell_type": "code",
   "execution_count": 3,
   "metadata": {},
   "outputs": [],
   "source": [
    "# Visit the Mars NASA news site: https://redplanetscience.com\n",
    "\n",
    "url = 'https://redplanetscience.com'\n",
    "browser.visit(url)"
   ]
  },
  {
   "cell_type": "markdown",
   "metadata": {},
   "source": [
    "### Step 2: Scrape the Website\n",
    "\n",
    "Create a Beautiful Soup object and use it to extract text elements from the website."
   ]
  },
  {
   "cell_type": "code",
   "execution_count": 4,
   "metadata": {},
   "outputs": [],
   "source": [
    "# Create a Beautiful Soup object\n",
    "html = browser.html\n",
    "soup = bs(html, 'html.parser')"
   ]
  },
  {
   "cell_type": "code",
   "execution_count": 7,
   "metadata": {},
   "outputs": [],
   "source": [
    "# Extract all the text elements\n",
    "text = soup.find_all('div', class_='list_text')\n"
   ]
  },
  {
   "cell_type": "markdown",
   "metadata": {},
   "source": [
    "### Step 3: Store the Results\n",
    "\n",
    "Extract the titles and preview text of the news articles that you scraped. Store the scraping results in Python data structures as follows:\n",
    "\n",
    "* Store each title-and-preview pair in a Python dictionary. And, give each dictionary two keys: `title` and `preview`. An example is the following:\n",
    "\n",
    "  ```python\n",
    "  {'title': \"Mars Rover Begins Mission!\", \n",
    "        'preview': \"NASA's Mars Rover begins a multiyear mission to collect data about the little-explored planet.\"}\n",
    "  ```\n",
    "\n",
    "* Store all the dictionaries in a Python list.\n",
    "\n",
    "* Print the list in your notebook."
   ]
  },
  {
   "cell_type": "code",
   "execution_count": 8,
   "metadata": {},
   "outputs": [],
   "source": [
    "# Create an empty list to store the dictionaries\n",
    "mars_info = []"
   ]
  },
  {
   "cell_type": "code",
   "execution_count": 31,
   "metadata": {},
   "outputs": [],
   "source": [
    "# Loop through the text elements\n",
    "for x in text:\n",
    "    \n",
    "    # Extract the title and preview text from the elements\n",
    "    title = x.findAll('div',{'class':'content_title'})[0].text\n",
    "    preview = x.findAll('div',{'class':'article_teaser_body'})[0].text\n",
    "    \n",
    "    # Store each title and preview pair in a dictionary\n",
    "    # Add the dictionary to the list    \n",
    "    mars_info.append({\n",
    "        'title':title,\n",
    "        'preview':preview\n",
    "    })"
   ]
  },
  {
   "cell_type": "code",
   "execution_count": 30,
   "metadata": {},
   "outputs": [
    {
     "name": "stdout",
     "output_type": "stream",
     "text": [
      "[{'title': \"NASA's Mars Rover Drivers Need Your Help\", 'preview': 'Using an online tool to label Martian terrain types, you can train an artificial intelligence algorithm that could improve the way engineers guide the Curiosity rover.'}, {'title': 'The Man Who Wanted to Fly on Mars', 'preview': \"The Mars Helicopter is riding to the Red Planet this summer with NASA's Perseverance rover. The helicopter's chief engineer, Bob Balaram, shares the saga of how it came into being.\"}, {'title': 'NASA Establishes Board to Initially Review Mars Sample Return Plans', 'preview': 'The board will assist with analysis of current plans and goals for one of the most difficult missions humanity has ever undertaken.'}, {'title': \"NASA's Perseverance Rover Bringing 3D-Printed Metal Parts to Mars\", 'preview': \"For hobbyists and makers, 3D printing expands creative possibilities; for specialized engineers, it's also key to next-generation spacecraft design.\"}, {'title': \"Media Get a Close-Up of NASA's Mars 2020 Rover\", 'preview': \"The clean room at NASA's Jet Propulsion Laboratory was open to the media to see NASA's next Mars explorer before it leaves for Florida in preparation for a summertime launch.\"}, {'title': \"NASA's Perseverance Mars Rover Gets Its Wheels and Air Brakes\", 'preview': 'After the rover was shipped from JPL to Kennedy Space Center, the team is getting closer to finalizing the spacecraft for launch later this summer.'}, {'title': \"NASA's Perseverance Rover Attached to Atlas V Rocket\", 'preview': 'Ready for its launch later in the month, the Mars-bound rover will touch terra firma no more.'}, {'title': \"NASA's Mars Reconnaissance Orbiter Undergoes Memory Update\", 'preview': 'Other orbiters will continue relaying data from Mars surface missions for a two-week period.'}, {'title': 'My Culture, My Voice', 'preview': 'In honor of Hispanic Heritage Month, Christina Hernandez, an instrument engineer on the Mars 2020 mission, talks about her childhood and journey to NASA.'}, {'title': 'With Mars Methane Mystery Unsolved, Curiosity Serves Scientists a New One: Oxygen', 'preview': 'For the first time in the history of space exploration, scientists have measured the seasonal changes in the gases that fill the air directly above the surface of Gale Crater on Mars. '}, {'title': \"Curiosity Mars Rover's Summer Road Trip Has Begun\", 'preview': 'After more than a year in the \"clay-bearing unit,\" Curiosity is making a mile-long journey around some deep sand so that it can explore higher up Mount Sharp.'}, {'title': 'MAVEN Maps Electric Currents around Mars that are Fundamental to Atmospheric Loss', 'preview': 'Five years after NASA’s MAVEN spacecraft entered into orbit around Mars, data from the mission has led to the creation of a map of electric current systems in the Martian atmosphere.'}, {'title': \"3 Things We've Learned From NASA's Mars InSight \", 'preview': 'Scientists are finding new mysteries since the geophysics mission landed two years ago.'}, {'title': \"NASA's Mars 2020 Will Hunt for Microscopic Fossils\", 'preview': \"A new paper identifies a ring of minerals at the rover's landing site that are ideal for fossilizing microbial life.\"}, {'title': \"NASA Wins 4 Webbys, 4 People's Voice Awards\", 'preview': 'Winners include the JPL-managed \"Send Your Name to Mars\" campaign, NASA\\'s Global Climate Change website and Solar System Interactive.'}]\n"
     ]
    }
   ],
   "source": [
    "# Print the list to confirm success\n",
    "print(mars_info)"
   ]
  },
  {
   "cell_type": "code",
   "execution_count": null,
   "metadata": {},
   "outputs": [],
   "source": [
    "browser.quit()"
   ]
  },
  {
   "cell_type": "markdown",
   "metadata": {},
   "source": [
    "### (Optional) Step 4: Export the Data\n",
    "\n",
    "Optionally, store the scraped data in a file or database (to ease sharing the data with others). To do so, export the scraped data to either a JSON file or a MongoDB database."
   ]
  },
  {
   "cell_type": "code",
   "execution_count": null,
   "metadata": {},
   "outputs": [],
   "source": [
    "# Export data to JSON\n"
   ]
  },
  {
   "cell_type": "code",
   "execution_count": null,
   "metadata": {},
   "outputs": [],
   "source": [
    "# Export data to MongoDB\n"
   ]
  }
 ],
 "metadata": {
  "kernelspec": {
   "display_name": "Python 3.10.8 64-bit (microsoft store)",
   "language": "python",
   "name": "python3"
  },
  "language_info": {
   "codemirror_mode": {
    "name": "ipython",
    "version": 3
   },
   "file_extension": ".py",
   "mimetype": "text/x-python",
   "name": "python",
   "nbconvert_exporter": "python",
   "pygments_lexer": "ipython3",
   "version": "3.10.9"
  },
  "vscode": {
   "interpreter": {
    "hash": "75b7b1ee9e03c7943b3e9394e3b9d2b1547020053b48c65a2d85fd95e03bbce6"
   }
  }
 },
 "nbformat": 4,
 "nbformat_minor": 4
}
